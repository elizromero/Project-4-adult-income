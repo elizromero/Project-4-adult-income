{
 "cells": [
  {
   "cell_type": "code",
   "execution_count": 2,
   "id": "4d89f6fb-e02b-46c1-ba34-f5030ca8849e",
   "metadata": {},
   "outputs": [],
   "source": [
    "from ucimlrepo import fetch_ucirepo \n",
    "import pandas as pd\n",
    "\n",
    "# fetch dataset \n",
    "adult = fetch_ucirepo(id=2) \n",
    "  \n",
    "# data (as pandas dataframes) \n",
    "X = adult.data.features \n",
    "y = adult.data.targets \n",
    "  \n",
    "# metadata \n",
    "# print(adult.metadata) \n",
    "  \n",
    "# variable information \n",
    "# print(adult.variables) "
   ]
  },
  {
   "cell_type": "code",
   "execution_count": 3,
   "id": "7781633c-30cb-43fa-aa0b-7710948a2626",
   "metadata": {},
   "outputs": [
    {
     "data": {
      "text/html": [
       "<div>\n",
       "<style scoped>\n",
       "    .dataframe tbody tr th:only-of-type {\n",
       "        vertical-align: middle;\n",
       "    }\n",
       "\n",
       "    .dataframe tbody tr th {\n",
       "        vertical-align: top;\n",
       "    }\n",
       "\n",
       "    .dataframe thead th {\n",
       "        text-align: right;\n",
       "    }\n",
       "</style>\n",
       "<table border=\"1\" class=\"dataframe\">\n",
       "  <thead>\n",
       "    <tr style=\"text-align: right;\">\n",
       "      <th></th>\n",
       "      <th>age</th>\n",
       "      <th>workclass</th>\n",
       "      <th>fnlwgt</th>\n",
       "      <th>education</th>\n",
       "      <th>education-num</th>\n",
       "      <th>marital-status</th>\n",
       "      <th>occupation</th>\n",
       "      <th>relationship</th>\n",
       "      <th>race</th>\n",
       "      <th>sex</th>\n",
       "      <th>capital-gain</th>\n",
       "      <th>capital-loss</th>\n",
       "      <th>hours-per-week</th>\n",
       "      <th>native-country</th>\n",
       "    </tr>\n",
       "  </thead>\n",
       "  <tbody>\n",
       "    <tr>\n",
       "      <th>0</th>\n",
       "      <td>39</td>\n",
       "      <td>State-gov</td>\n",
       "      <td>77516</td>\n",
       "      <td>Bachelors</td>\n",
       "      <td>13</td>\n",
       "      <td>Never-married</td>\n",
       "      <td>Adm-clerical</td>\n",
       "      <td>Not-in-family</td>\n",
       "      <td>White</td>\n",
       "      <td>Male</td>\n",
       "      <td>2174</td>\n",
       "      <td>0</td>\n",
       "      <td>40</td>\n",
       "      <td>United-States</td>\n",
       "    </tr>\n",
       "    <tr>\n",
       "      <th>1</th>\n",
       "      <td>50</td>\n",
       "      <td>Self-emp-not-inc</td>\n",
       "      <td>83311</td>\n",
       "      <td>Bachelors</td>\n",
       "      <td>13</td>\n",
       "      <td>Married-civ-spouse</td>\n",
       "      <td>Exec-managerial</td>\n",
       "      <td>Husband</td>\n",
       "      <td>White</td>\n",
       "      <td>Male</td>\n",
       "      <td>0</td>\n",
       "      <td>0</td>\n",
       "      <td>13</td>\n",
       "      <td>United-States</td>\n",
       "    </tr>\n",
       "    <tr>\n",
       "      <th>2</th>\n",
       "      <td>38</td>\n",
       "      <td>Private</td>\n",
       "      <td>215646</td>\n",
       "      <td>HS-grad</td>\n",
       "      <td>9</td>\n",
       "      <td>Divorced</td>\n",
       "      <td>Handlers-cleaners</td>\n",
       "      <td>Not-in-family</td>\n",
       "      <td>White</td>\n",
       "      <td>Male</td>\n",
       "      <td>0</td>\n",
       "      <td>0</td>\n",
       "      <td>40</td>\n",
       "      <td>United-States</td>\n",
       "    </tr>\n",
       "    <tr>\n",
       "      <th>3</th>\n",
       "      <td>53</td>\n",
       "      <td>Private</td>\n",
       "      <td>234721</td>\n",
       "      <td>11th</td>\n",
       "      <td>7</td>\n",
       "      <td>Married-civ-spouse</td>\n",
       "      <td>Handlers-cleaners</td>\n",
       "      <td>Husband</td>\n",
       "      <td>Black</td>\n",
       "      <td>Male</td>\n",
       "      <td>0</td>\n",
       "      <td>0</td>\n",
       "      <td>40</td>\n",
       "      <td>United-States</td>\n",
       "    </tr>\n",
       "    <tr>\n",
       "      <th>4</th>\n",
       "      <td>28</td>\n",
       "      <td>Private</td>\n",
       "      <td>338409</td>\n",
       "      <td>Bachelors</td>\n",
       "      <td>13</td>\n",
       "      <td>Married-civ-spouse</td>\n",
       "      <td>Prof-specialty</td>\n",
       "      <td>Wife</td>\n",
       "      <td>Black</td>\n",
       "      <td>Female</td>\n",
       "      <td>0</td>\n",
       "      <td>0</td>\n",
       "      <td>40</td>\n",
       "      <td>Cuba</td>\n",
       "    </tr>\n",
       "  </tbody>\n",
       "</table>\n",
       "</div>"
      ],
      "text/plain": [
       "   age         workclass  fnlwgt  education  education-num  \\\n",
       "0   39         State-gov   77516  Bachelors             13   \n",
       "1   50  Self-emp-not-inc   83311  Bachelors             13   \n",
       "2   38           Private  215646    HS-grad              9   \n",
       "3   53           Private  234721       11th              7   \n",
       "4   28           Private  338409  Bachelors             13   \n",
       "\n",
       "       marital-status         occupation   relationship   race     sex  \\\n",
       "0       Never-married       Adm-clerical  Not-in-family  White    Male   \n",
       "1  Married-civ-spouse    Exec-managerial        Husband  White    Male   \n",
       "2            Divorced  Handlers-cleaners  Not-in-family  White    Male   \n",
       "3  Married-civ-spouse  Handlers-cleaners        Husband  Black    Male   \n",
       "4  Married-civ-spouse     Prof-specialty           Wife  Black  Female   \n",
       "\n",
       "   capital-gain  capital-loss  hours-per-week native-country  \n",
       "0          2174             0              40  United-States  \n",
       "1             0             0              13  United-States  \n",
       "2             0             0              40  United-States  \n",
       "3             0             0              40  United-States  \n",
       "4             0             0              40           Cuba  "
      ]
     },
     "execution_count": 3,
     "metadata": {},
     "output_type": "execute_result"
    }
   ],
   "source": [
    "# Inspect the data\n",
    "X.head()"
   ]
  },
  {
   "cell_type": "code",
   "execution_count": 4,
   "id": "bb2366f4-7c51-460e-bbc9-978802b53a69",
   "metadata": {},
   "outputs": [
    {
     "data": {
      "text/html": [
       "<div>\n",
       "<style scoped>\n",
       "    .dataframe tbody tr th:only-of-type {\n",
       "        vertical-align: middle;\n",
       "    }\n",
       "\n",
       "    .dataframe tbody tr th {\n",
       "        vertical-align: top;\n",
       "    }\n",
       "\n",
       "    .dataframe thead th {\n",
       "        text-align: right;\n",
       "    }\n",
       "</style>\n",
       "<table border=\"1\" class=\"dataframe\">\n",
       "  <thead>\n",
       "    <tr style=\"text-align: right;\">\n",
       "      <th></th>\n",
       "      <th>income</th>\n",
       "    </tr>\n",
       "  </thead>\n",
       "  <tbody>\n",
       "    <tr>\n",
       "      <th>0</th>\n",
       "      <td>&lt;=50K</td>\n",
       "    </tr>\n",
       "    <tr>\n",
       "      <th>1</th>\n",
       "      <td>&lt;=50K</td>\n",
       "    </tr>\n",
       "    <tr>\n",
       "      <th>2</th>\n",
       "      <td>&lt;=50K</td>\n",
       "    </tr>\n",
       "    <tr>\n",
       "      <th>3</th>\n",
       "      <td>&lt;=50K</td>\n",
       "    </tr>\n",
       "    <tr>\n",
       "      <th>4</th>\n",
       "      <td>&lt;=50K</td>\n",
       "    </tr>\n",
       "  </tbody>\n",
       "</table>\n",
       "</div>"
      ],
      "text/plain": [
       "  income\n",
       "0  <=50K\n",
       "1  <=50K\n",
       "2  <=50K\n",
       "3  <=50K\n",
       "4  <=50K"
      ]
     },
     "execution_count": 4,
     "metadata": {},
     "output_type": "execute_result"
    }
   ],
   "source": [
    "# Inspect the data\n",
    "y.head()"
   ]
  },
  {
   "cell_type": "code",
   "execution_count": 5,
   "id": "2f90f2b7-a5ec-421c-8fca-7ee12ab30aae",
   "metadata": {},
   "outputs": [],
   "source": [
    "y = y.replace({\"<=50K.\": \"<=50K\", \">50K.\": \">50K\"})"
   ]
  },
  {
   "cell_type": "code",
   "execution_count": 6,
   "id": "ba5d4b58-69f1-491a-975d-9eef74cbd926",
   "metadata": {},
   "outputs": [
    {
     "data": {
      "text/plain": [
       "income    2\n",
       "dtype: int64"
      ]
     },
     "execution_count": 6,
     "metadata": {},
     "output_type": "execute_result"
    }
   ],
   "source": [
    "y.nunique()"
   ]
  },
  {
   "cell_type": "code",
   "execution_count": 7,
   "id": "54389bf7-89c2-43a9-99c2-c3ed9b647ac7",
   "metadata": {},
   "outputs": [
    {
     "data": {
      "text/plain": [
       "age                 0\n",
       "workclass         963\n",
       "fnlwgt              0\n",
       "education           0\n",
       "education-num       0\n",
       "marital-status      0\n",
       "occupation        966\n",
       "relationship        0\n",
       "race                0\n",
       "sex                 0\n",
       "capital-gain        0\n",
       "capital-loss        0\n",
       "hours-per-week      0\n",
       "native-country    274\n",
       "dtype: int64"
      ]
     },
     "execution_count": 7,
     "metadata": {},
     "output_type": "execute_result"
    }
   ],
   "source": [
    "# Check for missing values in the features\n",
    "X.isnull().sum()"
   ]
  },
  {
   "cell_type": "code",
   "execution_count": 14,
   "id": "5ef07bd3-10af-425b-8b10-ab197c9a9e20",
   "metadata": {},
   "outputs": [
    {
     "name": "stdout",
     "output_type": "stream",
     "text": [
      "workclass: ['State-gov', 'Self-emp-not-inc', 'Private', 'Federal-gov', 'Local-gov', '?', 'Self-emp-inc', 'Without-pay', 'Never-worked', nan]\n",
      "education: ['Bachelors', 'HS-grad', '11th', 'Masters', '9th', 'Some-college', 'Assoc-acdm', 'Assoc-voc', '7th-8th', 'Doctorate', 'Prof-school', '5th-6th', '10th', '1st-4th', 'Preschool', '12th']\n",
      "marital-status: ['Never-married', 'Married-civ-spouse', 'Divorced', 'Married-spouse-absent', 'Separated', 'Married-AF-spouse', 'Widowed']\n",
      "occupation: ['Adm-clerical', 'Exec-managerial', 'Handlers-cleaners', 'Prof-specialty', 'Other-service', 'Sales', 'Craft-repair', 'Transport-moving', 'Farming-fishing', 'Machine-op-inspct', 'Tech-support', '?', 'Protective-serv', 'Armed-Forces', 'Priv-house-serv', nan]\n",
      "relationship: ['Not-in-family', 'Husband', 'Wife', 'Own-child', 'Unmarried', 'Other-relative']\n",
      "race: ['White', 'Black', 'Asian-Pac-Islander', 'Amer-Indian-Eskimo', 'Other']\n",
      "sex: ['Male', 'Female']\n",
      "native-country: ['United-States', 'Cuba', 'Jamaica', 'India', '?', 'Mexico', 'South', 'Puerto-Rico', 'Honduras', 'England', 'Canada', 'Germany', 'Iran', 'Philippines', 'Italy', 'Poland', 'Columbia', 'Cambodia', 'Thailand', 'Ecuador', 'Laos', 'Taiwan', 'Haiti', 'Portugal', 'Dominican-Republic', 'El-Salvador', 'France', 'Guatemala', 'China', 'Japan', 'Yugoslavia', 'Peru', 'Outlying-US(Guam-USVI-etc)', 'Scotland', 'Trinadad&Tobago', 'Greece', 'Nicaragua', 'Vietnam', 'Hong', 'Ireland', 'Hungary', 'Holand-Netherlands', nan]\n"
     ]
    }
   ],
   "source": [
    "# Extract unique values for each categorical feature\n",
    "categorical_features = [\n",
    "    'workclass', 'education', 'marital-status', 'occupation', \n",
    "    'relationship', 'race', 'sex', 'native-country'\n",
    "]\n",
    "# Get unique values for each feature\n",
    "unique_values = {feature: X[feature].unique().tolist() for feature in categorical_features}\n",
    "\n",
    "# Display the unique values\n",
    "for feature, values in unique_values.items():\n",
    "    print(f\"{feature}: {values}\")"
   ]
  },
  {
   "cell_type": "markdown",
   "id": "7a5f9566-d9fa-4659-aab4-b7a00c5b0b95",
   "metadata": {},
   "source": [
    "# Data cleaning"
   ]
  },
  {
   "cell_type": "markdown",
   "id": "29596ad3-c14f-4893-a791-378c0cfdc546",
   "metadata": {},
   "source": [
    "### Handling Missing Values and '?'"
   ]
  },
  {
   "cell_type": "code",
   "execution_count": null,
   "id": "72a1ec55-f68c-40d7-8f79-27c14862e004",
   "metadata": {},
   "outputs": [],
   "source": [
    "import numpy as np\n",
    "# Replace \"?\" with NaN in the specified columns using .loc\n",
    "X.loc[X['workclass'] == \"?\", 'workclass'] = np.nan\n",
    "X.loc[X['occupation'] == \"?\", 'occupation'] = np.nan\n",
    "X.loc[X['native-country'] == \"?\", 'native-country'] = np.nan\n",
    "\n",
    "# Impute missing values with the most frequent value (mode) using .loc[]\n",
    "X.loc[:, 'workclass'] = X['workclass'].fillna(X['workclass'].mode()[0])\n",
    "X.loc[:, 'occupation'] = X['occupation'].fillna(X['occupation'].mode()[0])\n",
    "X.loc[:, 'native-country'] = X['native-country'].fillna(X['native-country'].mode()[0])"
   ]
  },
  {
   "cell_type": "code",
   "execution_count": null,
   "id": "125addee-e819-442f-99e5-9a783d78159a",
   "metadata": {},
   "outputs": [],
   "source": [
    "# Standardize original categorical columns\n",
    "X.loc[:, 'native-country'] = X['native-country'].str.lower()"
   ]
  },
  {
   "cell_type": "code",
   "execution_count": null,
   "id": "256c82bd-092d-4784-9761-1f7b3ce76332",
   "metadata": {},
   "outputs": [],
   "source": [
    "# Check for missing values in the features\n",
    "X.isnull().sum()"
   ]
  },
  {
   "cell_type": "markdown",
   "id": "2f3f8bef-f651-4131-9378-66e7ec86e681",
   "metadata": {},
   "source": [
    "### One-hot Encoding"
   ]
  },
  {
   "cell_type": "code",
   "execution_count": null,
   "id": "bc42c65d-7c77-4602-acde-35b7b1e68c1e",
   "metadata": {},
   "outputs": [],
   "source": [
    "# Perform one-hot encoding for categorical features\n",
    "X = pd.get_dummies(X, columns=['workclass', 'education', 'marital-status', 'occupation',\n",
    "                                          'relationship', 'race', 'sex', 'native-country'], drop_first=True)"
   ]
  },
  {
   "cell_type": "markdown",
   "id": "1aef1ff8-1b8b-41f3-821a-c7454e8dced6",
   "metadata": {},
   "source": [
    "### Ensuring Correct Data Types"
   ]
  },
  {
   "cell_type": "code",
   "execution_count": null,
   "id": "7c19702c-5c7d-4151-9c6e-637d22a51e1b",
   "metadata": {},
   "outputs": [],
   "source": [
    "X.loc[:, 'age'] = X['age'].astype(int)\n",
    "X.loc[:, 'fnlwgt'] = X['fnlwgt'].astype(int)\n",
    "X.loc[:, 'capital-gain'] = X['capital-gain'].astype(int)\n",
    "X.loc[:, 'capital-loss'] = X['capital-loss'].astype(int)\n",
    "X.loc[:, 'hours-per-week'] = X['hours-per-week'].astype(int)"
   ]
  },
  {
   "cell_type": "code",
   "execution_count": null,
   "id": "4f139fd6-2227-4f7b-8d49-180be3712645",
   "metadata": {},
   "outputs": [],
   "source": [
    "# Check the data types of the columns\n",
    "X.dtypes"
   ]
  },
  {
   "cell_type": "markdown",
   "id": "8b4757ca-2a3e-42b1-89b6-7f2673f05176",
   "metadata": {},
   "source": [
    "### Feature Engineering"
   ]
  },
  {
   "cell_type": "code",
   "execution_count": null,
   "id": "57412a84-16a9-4923-aeb0-0cae6ae3e2ce",
   "metadata": {},
   "outputs": [],
   "source": [
    "# Create a new feature 'net-capital-gain'\n",
    "X['net-capital-gain'] = X['capital-gain'] - X['capital-loss']\n",
    "\n",
    "# Drop the original 'capital-gain' and 'capital-loss' columns if no longer needed\n",
    "X.drop(['capital-gain', 'capital-loss'], axis=1, inplace=True)"
   ]
  },
  {
   "cell_type": "code",
   "execution_count": null,
   "id": "b09860f8-85f3-452f-be82-e6a09c84bc35",
   "metadata": {},
   "outputs": [],
   "source": [
    "# Drop `education-num` since it seems redundant\n",
    "X.drop('education-num', axis=1, inplace=True)"
   ]
  },
  {
   "cell_type": "markdown",
   "id": "170b006c-d07c-4d77-a5ec-333a0434de54",
   "metadata": {},
   "source": [
    "## Handling Outliers"
   ]
  },
  {
   "cell_type": "code",
   "execution_count": null,
   "id": "0d1def7e-401e-409f-bd4d-7119c447843a",
   "metadata": {},
   "outputs": [],
   "source": [
    "import seaborn as sns\n",
    "import matplotlib.pyplot as plt\n",
    "\n",
    "# Boxplot to check for outliers in 'hours-per-week'\n",
    "sns.boxplot(x=X['hours-per-week'])\n",
    "# Remove outliers in 'hours-per-week'\n",
    "X = X[X['hours-per-week'] <= 80]\n",
    "\n",
    "plt.show()"
   ]
  },
  {
   "cell_type": "code",
   "execution_count": null,
   "id": "023e825a-de45-44d7-8145-87b89d675746",
   "metadata": {},
   "outputs": [],
   "source": [
    "# Function to remove outliers based on IQR\n",
    "def remove_outliers_iqr(df, columns):\n",
    "    for col in columns:\n",
    "        # Calculate Q1 (25th percentile) and Q3 (75th percentile)\n",
    "        Q1 = df[col].quantile(0.25)\n",
    "        Q3 = df[col].quantile(0.75)\n",
    "        \n",
    "        # Calculate IQR\n",
    "        IQR = Q3 - Q1\n",
    "        \n",
    "        # Define lower and upper bounds for detecting outliers\n",
    "        lower_bound = Q1 - 1.5 * IQR\n",
    "        upper_bound = Q3 + 1.5 * IQR\n",
    "        \n",
    "        # Remove rows where values are outside the bounds\n",
    "        df = df[(df[col] >= lower_bound) & (df[col] <= upper_bound)]\n",
    "    \n",
    "    return df\n",
    "\n",
    "# Columns to check for outliers (adjust as needed)\n",
    "columns_to_check = ['age', 'fnlwgt', 'net-capital-gain']\n",
    "\n",
    "# Apply the function to remove outliers\n",
    "X_cleaned = remove_outliers_iqr(X, columns_to_check)\n",
    "\n",
    "# Display the cleaned dataframe\n",
    "X_cleaned.head()"
   ]
  },
  {
   "cell_type": "code",
   "execution_count": null,
   "id": "9c0c9d25-a432-4f6c-b3a8-ea6153490ff4",
   "metadata": {},
   "outputs": [],
   "source": [
    "X_cleaned['hours-per-week'].max()"
   ]
  },
  {
   "cell_type": "code",
   "execution_count": null,
   "id": "d34157a3-5f9e-43a3-b69a-cf7cf8093ed3",
   "metadata": {},
   "outputs": [],
   "source": [
    "print(X_cleaned.shape)\n",
    "print(y.shape)"
   ]
  },
  {
   "cell_type": "code",
   "execution_count": null,
   "id": "78a74475-67b8-409d-9069-d96dbc75e756",
   "metadata": {},
   "outputs": [],
   "source": [
    "# Assuming y is still a pandas Series, you can check:\n",
    "y = y.loc[X_cleaned.index]"
   ]
  },
  {
   "cell_type": "code",
   "execution_count": null,
   "id": "7be02195-f1b7-42c1-bf17-bc14894234ed",
   "metadata": {},
   "outputs": [],
   "source": [
    "print(X_cleaned.shape)\n",
    "print(y.shape)"
   ]
  },
  {
   "cell_type": "markdown",
   "id": "67a05d31-37d8-4f4c-89cd-ff3e2acf0732",
   "metadata": {},
   "source": [
    "### Splitting the Data"
   ]
  },
  {
   "cell_type": "code",
   "execution_count": null,
   "id": "83bf73ba-8e5a-4458-a14b-04bef51cd7f7",
   "metadata": {},
   "outputs": [],
   "source": [
    "from sklearn.model_selection import train_test_split\n",
    "\n",
    "# Split the data into training and testing sets (80% train, 20% test)\n",
    "X_train, X_test, y_train, y_test = train_test_split(X_cleaned, y, test_size=0.2, random_state=42)\n",
    "\n",
    "# Check the shape of the split data\n",
    "X_train.shape, X_test.shape, y_train.shape, y_test.shape"
   ]
  },
  {
   "cell_type": "markdown",
   "id": "0368d620-7738-4ea5-a927-cc1a8c0b97cf",
   "metadata": {},
   "source": [
    "## **Random Forest** Accuracy= 85%"
   ]
  },
  {
   "cell_type": "code",
   "execution_count": null,
   "id": "99919bca-b3b2-4f95-bd0e-eb99c9597bd7",
   "metadata": {},
   "outputs": [],
   "source": [
    "from sklearn.ensemble import RandomForestClassifier\n",
    "\n",
    "# Initialize the Random Forest model\n",
    "rf_model = RandomForestClassifier(n_estimators=100, random_state=42)"
   ]
  },
  {
   "cell_type": "code",
   "execution_count": null,
   "id": "87b2cbfe-455b-442c-a27e-4ae81c46fb3a",
   "metadata": {},
   "outputs": [],
   "source": [
    "# Train the model with 1D target array (using squeeze)\n",
    "rf_model.fit(X_train, y_train.squeeze())"
   ]
  },
  {
   "cell_type": "code",
   "execution_count": null,
   "id": "46c6b49b-f324-4f5b-a453-19bd33ed4d81",
   "metadata": {},
   "outputs": [],
   "source": [
    "# Make predictions on the test data\n",
    "y_pred = rf_model.predict(X_test)"
   ]
  },
  {
   "cell_type": "code",
   "execution_count": null,
   "id": "64c1aeb2-ed44-4a2c-958d-41e0288486dc",
   "metadata": {},
   "outputs": [],
   "source": [
    "# Evaluation\n",
    "from sklearn.metrics import accuracy_score, classification_report, confusion_matrix\n",
    "\n",
    "# Evaluate the accuracy\n",
    "accuracy = accuracy_score(y_test, y_pred)\n",
    "print(f'Accuracy: {accuracy:.4f}')\n",
    "\n",
    "# Get a more detailed classification report\n",
    "print(\"Classification Report:\")\n",
    "print(classification_report(y_test, y_pred))\n",
    "\n",
    "# Confusion Matrix\n",
    "print(\"Confusion Matrix:\")\n",
    "print(confusion_matrix(y_test, y_pred))"
   ]
  },
  {
   "cell_type": "markdown",
   "id": "0412ec99-b752-45c3-b3cf-6df1ef7d0de7",
   "metadata": {},
   "source": [
    "## **Neural Network Classification**  Accuracy= 83%"
   ]
  },
  {
   "cell_type": "code",
   "execution_count": null,
   "id": "c9944c71-426f-49f7-a247-15c80edac871",
   "metadata": {},
   "outputs": [],
   "source": [
    "# Import libraries\n",
    "from tensorflow.keras.models import Sequential\n",
    "from tensorflow.keras.layers import Dense\n",
    "from tensorflow.keras.utils import to_categorical\n",
    "from sklearn.preprocessing import StandardScaler"
   ]
  },
  {
   "cell_type": "code",
   "execution_count": null,
   "id": "8e60752b-c66f-4269-a06b-19190349a4c8",
   "metadata": {},
   "outputs": [],
   "source": [
    "# Preprocess the Target Variable\n",
    "y_train_nn = pd.get_dummies(y_train).values  # One-hot encoding\n",
    "y_test_nn = pd.get_dummies(y_test).values    # For evaluation"
   ]
  },
  {
   "cell_type": "code",
   "execution_count": null,
   "id": "9e735731-4499-413c-825d-68da5776e61c",
   "metadata": {},
   "outputs": [],
   "source": [
    "# Scale the Features\n",
    "scaler = StandardScaler()\n",
    "X_train_scaled = scaler.fit_transform(X_train)\n",
    "X_test_scaled = scaler.transform(X_test)"
   ]
  },
  {
   "cell_type": "code",
   "execution_count": null,
   "id": "e79bc213-8f84-4db0-9677-e72ba4d61646",
   "metadata": {},
   "outputs": [],
   "source": [
    "# Define NN model\n",
    "nn_model = Sequential([\n",
    "    Dense(64, activation='relu', input_shape=(X_train_scaled.shape[1],)),\n",
    "    Dense(32, activation='relu'),\n",
    "    Dense(16, activation='relu'),\n",
    "    Dense(2, activation='sigmoid')  # Two neurons for binary output with softmax\n",
    "])"
   ]
  },
  {
   "cell_type": "code",
   "execution_count": null,
   "id": "997323b4-ae33-4151-9957-078b984e130f",
   "metadata": {},
   "outputs": [],
   "source": [
    "# Compile the model\n",
    "nn_model.compile(optimizer='adam', loss='categorical_crossentropy', metrics=['accuracy'])"
   ]
  },
  {
   "cell_type": "code",
   "execution_count": null,
   "id": "71f36ae1-ecb8-4049-b086-eb02b1b00b4e",
   "metadata": {},
   "outputs": [],
   "source": [
    "# Train the model\n",
    "history = nn_model.fit(X_train_scaled, y_train_nn, epochs=20, batch_size=32, validation_split=0.2)"
   ]
  },
  {
   "cell_type": "code",
   "execution_count": null,
   "id": "2e6ac414-e58c-4dd0-bd46-4524412377a9",
   "metadata": {},
   "outputs": [],
   "source": [
    "# Evaluate the Model\n",
    "test_loss, test_accuracy = nn_model.evaluate(X_test_scaled, y_test_nn)\n",
    "print(f'Test accuracy: {test_accuracy:.4f}')"
   ]
  },
  {
   "cell_type": "code",
   "execution_count": null,
   "id": "19b5f4f7-0db3-4795-9bc0-cc5d62e96c08",
   "metadata": {},
   "outputs": [],
   "source": [
    "# Convert y_test to integer labels to match the format of y_pred_classes\n",
    "y_test_int = y_test.replace({\"<=50K\": 0, \">50K\": 1}).astype(int)\n",
    "\n",
    "# Convert neural network predictions to binary classes\n",
    "y_pred_nn = nn_model.predict(X_test_scaled)\n",
    "y_pred_classes = (y_pred_nn[:, 1] > 0.5).astype(int)  # Convert probabilities to binary predictions"
   ]
  },
  {
   "cell_type": "code",
   "execution_count": null,
   "id": "faf4e8cf-5407-4ee0-bdfc-94954aa4f646",
   "metadata": {},
   "outputs": [],
   "source": [
    "# Evaluation\n",
    "# Import the evaluation metrics\n",
    "from sklearn.metrics import classification_report, confusion_matrix\n",
    "\n",
    "# Print classification report and confusion matrix using integer labels\n",
    "print(\"Classification Report:\")\n",
    "print(classification_report(y_test_int, y_pred_classes))\n",
    "\n",
    "print(\"\\nConfusion Matrix:\")\n",
    "print(confusion_matrix(y_test_int, y_pred_classes))"
   ]
  },
  {
   "cell_type": "markdown",
   "id": "e05d92ee-3e25-49cd-a728-d9120962febf",
   "metadata": {},
   "source": [
    "## **XGBoost** Accuracy= 86%"
   ]
  },
  {
   "cell_type": "code",
   "execution_count": null,
   "id": "ef517b2f-bd04-4fb9-81a1-761888bd16aa",
   "metadata": {},
   "outputs": [],
   "source": [
    "import xgboost as xgb\n",
    "\n",
    "# Initialize the XGBoost classifier\n",
    "xgb_model = xgb.XGBClassifier(\n",
    "    n_estimators=100,       # Number of boosting rounds\n",
    "    max_depth=6,            # Maximum tree depth for base learners\n",
    "    learning_rate=0.1,      # Step size shrinkage used to prevent overfitting\n",
    "    eval_metric='logloss',   # Evaluation metric for the validation dataset\n",
    "    random_state=42\n",
    ")\n",
    "y_train_int = y_train.replace({\"<=50K\": 0, \">50K\": 1}).astype(int).values"
   ]
  },
  {
   "cell_type": "code",
   "execution_count": null,
   "id": "e8e38cbe-686c-45ab-970d-cd7bfe940def",
   "metadata": {},
   "outputs": [],
   "source": [
    "# Fit the model on the training data\n",
    "xgb_model.fit(X_train, y_train_int)  # y_train_int is the integer-encoded y_train"
   ]
  },
  {
   "cell_type": "code",
   "execution_count": null,
   "id": "daa4b676-3745-43b9-875c-835e3cadb51a",
   "metadata": {},
   "outputs": [],
   "source": [
    "# Make predictions on the test set\n",
    "y_pred_xgb = xgb_model.predict(X_test)"
   ]
  },
  {
   "cell_type": "code",
   "execution_count": null,
   "id": "3cbeed84-8e9b-4f10-8444-f561f0b05a08",
   "metadata": {},
   "outputs": [],
   "source": [
    "# Evaluate the model\n",
    "accuracy_xgb = accuracy_score(y_test_int, y_pred_xgb)\n",
    "print(f'Accuracy: {accuracy_xgb:.4f}')\n",
    "print(\"\\nClassification Report:\")\n",
    "print(classification_report(y_test_int, y_pred_xgb))\n",
    "\n",
    "print(\"\\nConfusion Matrix:\")\n",
    "print(confusion_matrix(y_test_int, y_pred_xgb))"
   ]
  },
  {
   "cell_type": "code",
   "execution_count": null,
   "id": "78d0dcb4-e337-4abb-ad76-c6b66f9e31f6",
   "metadata": {},
   "outputs": [],
   "source": [
    "# Save models\n",
    "import joblib\n",
    "\n",
    "# Save Random Forest model\n",
    "joblib.dump(rf_model, 'Resources/Models/random_forest_model.pkl')\n",
    "\n",
    "# Save Neural Network model\n",
    "joblib.dump(nn_model, 'Resources/Models/neural_network_model.pkl')\n",
    "\n",
    "# Save XGBoost model\n",
    "joblib.dump(xgb_model, 'Resources/Models/xgboost_model.pkl')\n",
    "\n",
    "print(\"Models saved successfully!\")"
   ]
  },
  {
   "cell_type": "code",
   "execution_count": null,
   "id": "fbf1e4cd-866c-4b4d-9d19-c0075e2444fe",
   "metadata": {},
   "outputs": [],
   "source": []
  }
 ],
 "metadata": {
  "kernelspec": {
   "display_name": "Python 3 (ipykernel)",
   "language": "python",
   "name": "python3"
  },
  "language_info": {
   "codemirror_mode": {
    "name": "ipython",
    "version": 3
   },
   "file_extension": ".py",
   "mimetype": "text/x-python",
   "name": "python",
   "nbconvert_exporter": "python",
   "pygments_lexer": "ipython3",
   "version": "3.12.3"
  }
 },
 "nbformat": 4,
 "nbformat_minor": 5
}
